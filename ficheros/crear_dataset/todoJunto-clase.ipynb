{
 "cells": [
  {
   "cell_type": "markdown",
   "metadata": {},
   "source": [
    "# CREAR EL DATASET FINAL CON LOS 4 TIPOS DE TRAZAS\n",
    "Con class e importando el fichero funciones.py"
   ]
  },
  {
   "cell_type": "code",
   "execution_count": 1,
   "metadata": {},
   "outputs": [],
   "source": [
    "from PIL import Image, ImageDraw, ImageFilter\n",
    "import matplotlib.pyplot as plt\n",
    "import numpy as np\n",
    "import random\n",
    "import os\n",
    "import math\n",
    "from noise import pnoise2\n",
    "import noise"
   ]
  },
  {
   "cell_type": "code",
   "execution_count": 2,
   "metadata": {},
   "outputs": [],
   "source": [
    "from funciones import trazas_tipo1, trazas_tipo2, trazas_tipo3, trazas_tipo4, trazas_tipo5\n",
    "\n",
    "class CreadorTrazas:\n",
    "\n",
    "    def __init__(self):\n",
    "        pass\n",
    "\n",
    "    def trazas_tipo1(self,ruta_imagen,ruta_guardado_img,ruta_guardado_unet):\n",
    "        nombre_sin_extension, extension = os.path.splitext(os.path.basename(ruta_imagen))\n",
    "        nombre_archivo = f\"{nombre_sin_extension}_img_tipo1{extension}\"\n",
    "        nombre_archivo_unet = f\"{nombre_sin_extension}_unet_tipo1{extension}\"\n",
    "\n",
    "        ruta_guardado_img = os.path.join(ruta_guardado_img, nombre_archivo)\n",
    "        ruta_guardado_unet = os.path.join(ruta_guardado_unet, nombre_archivo_unet)\n",
    "\n",
    "        trazas_tipo1(ruta_imagen, ruta_guardado_img,ruta_guardado_unet)\n",
    "    \n",
    "    def trazas_tipo2(self,ruta_imagen,ruta_guardado_img,ruta_guardado_unet):\n",
    "        nombre_sin_extension, extension = os.path.splitext(os.path.basename(ruta_imagen))\n",
    "        nombre_archivo = f\"{nombre_sin_extension}_img_tipo2{extension}\"\n",
    "        nombre_archivo_unet = f\"{nombre_sin_extension}_unet_tipo2{extension}\"\n",
    "\n",
    "        ruta_guardado_img = os.path.join(ruta_guardado_img, nombre_archivo)\n",
    "        ruta_guardado_unet = os.path.join(ruta_guardado_unet, nombre_archivo_unet)\n",
    "\n",
    "        trazas_tipo2(ruta_imagen, ruta_guardado_img,ruta_guardado_unet)\n",
    "\n",
    "    def trazas_tipo3(self,ruta_imagen,ruta_guardado_img,ruta_guardado_unet):\n",
    "        nombre_sin_extension, extension = os.path.splitext(os.path.basename(ruta_imagen))\n",
    "        nombre_archivo = f\"{nombre_sin_extension}_img_tipo3{extension}\"\n",
    "        nombre_archivo_unet = f\"{nombre_sin_extension}_unet_tipo3{extension}\"\n",
    "\n",
    "        ruta_guardado_img = os.path.join(ruta_guardado_img, nombre_archivo)\n",
    "        ruta_guardado_unet = os.path.join(ruta_guardado_unet, nombre_archivo_unet)\n",
    "\n",
    "        trazas_tipo3(ruta_imagen, ruta_guardado_img,ruta_guardado_unet)\n",
    "\n",
    "    def trazas_tipo4(self,ruta_imagen,ruta_guardado_img,ruta_guardado_unet):\n",
    "        nombre_sin_extension, extension = os.path.splitext(os.path.basename(ruta_imagen))\n",
    "        nombre_archivo = f\"{nombre_sin_extension}_img_tipo4{extension}\"\n",
    "        nombre_archivo_unet = f\"{nombre_sin_extension}_unet_tipo4{extension}\"\n",
    "        \n",
    "        ruta_guardado_img = os.path.join(ruta_guardado_img, nombre_archivo)\n",
    "        ruta_guardado_unet = os.path.join(ruta_guardado_unet, nombre_archivo_unet)\n",
    "\n",
    "        trazas_tipo4(ruta_imagen, ruta_guardado_img,ruta_guardado_unet)\n",
    "\n",
    "    def trazas_tipo5(self,ruta_imagen,ruta_guardado_img,ruta_guardado_unet):\n",
    "        nombre_sin_extension, extension = os.path.splitext(os.path.basename(ruta_imagen))\n",
    "        nombre_archivo = f\"{nombre_sin_extension}_img_tipo5{extension}\"\n",
    "        nombre_archivo_unet = f\"{nombre_sin_extension}_unet_tipo5{extension}\"\n",
    "        \n",
    "        ruta_guardado_img = os.path.join(ruta_guardado_img, nombre_archivo)\n",
    "        ruta_guardado_unet = os.path.join(ruta_guardado_unet, nombre_archivo_unet)\n",
    "\n",
    "        trazas_tipo5(ruta_imagen, ruta_guardado_img,ruta_guardado_unet)\n"
   ]
  },
  {
   "cell_type": "markdown",
   "metadata": {},
   "source": [
    "Uso de la clase para una imagen única:"
   ]
  },
  {
   "cell_type": "code",
   "execution_count": 3,
   "metadata": {},
   "outputs": [],
   "source": [
    "# Uso de la clase\n",
    "ruta_imagen = r\"C:\\circumpolar\\TFG\\imagenes\\resta(mediana-original)\\01_toni\\01_toniresta_0.jpg\"\n",
    "\n",
    "ruta_guardado_img =r\"C:\\circumpolar\\TFG\\imagenes\\dataset\\cielos_estrellados_internet\\cielo1\"\n",
    "ruta_guardado_unet = r\"C:\\circumpolar\\TFG\\imagenes\\dataset\\cielos_estrellados_internet\\cielo1\\solUNET\"\n",
    "\n",
    "creador = CreadorTrazas()\n",
    "creador.trazas_tipo1(ruta_imagen,ruta_guardado_img,ruta_guardado_unet)\n",
    "creador.trazas_tipo2(ruta_imagen,ruta_guardado_img,ruta_guardado_unet)\n",
    "creador.trazas_tipo3(ruta_imagen,ruta_guardado_img,ruta_guardado_unet)\n",
    "creador.trazas_tipo4(ruta_imagen,ruta_guardado_img,ruta_guardado_unet)\n",
    "creador.trazas_tipo5(ruta_imagen,ruta_guardado_img,ruta_guardado_unet)"
   ]
  },
  {
   "cell_type": "markdown",
   "metadata": {},
   "source": [
    "Uso de la clase para carpetas con varias imágenes:"
   ]
  },
  {
   "cell_type": "code",
   "execution_count": 4,
   "metadata": {},
   "outputs": [],
   "source": [
    "# Uso de la clase\n",
    "carpeta_imagenes = r\"C:\\circumpolar\\TFG\\imagenes\\resta(mediana-original)\\01_toni\"  # Ruta de la carpeta con varias imágenes\n",
    "ruta_guardado_img = r\"C:\\circumpolar\\TFG\\imagenes\\dataset\\tipo1\"\n",
    "ruta_guardado_unet = r\"C:\\circumpolar\\TFG\\imagenes\\dataset\\tipo1\\solUNET\"\n",
    "\n",
    "creador = CreadorTrazas()\n",
    "\n",
    "# Itera sobre los archivos en la carpeta de imágenes\n",
    "for nombre_imagen in os.listdir(carpeta_imagenes):\n",
    "    ruta_imagen = os.path.join(carpeta_imagenes, nombre_imagen)\n",
    "\n",
    "    # Llama a cada función para procesar la imagen\n",
    "    creador.trazas_tipo1(ruta_imagen, ruta_guardado_img, ruta_guardado_unet)\n",
    "    creador.trazas_tipo2(ruta_imagen, ruta_guardado_img, ruta_guardado_unet)\n",
    "    creador.trazas_tipo3(ruta_imagen, ruta_guardado_img, ruta_guardado_unet)\n",
    "    creador.trazas_tipo4(ruta_imagen, ruta_guardado_img, ruta_guardado_unet)\n",
    "    creador.trazas_tipo5(ruta_imagen, ruta_guardado_img, ruta_guardado_unet)"
   ]
  },
  {
   "cell_type": "code",
   "execution_count": null,
   "metadata": {},
   "outputs": [],
   "source": []
  }
 ],
 "metadata": {
  "kernelspec": {
   "display_name": "tfg",
   "language": "python",
   "name": "python3"
  },
  "language_info": {
   "codemirror_mode": {
    "name": "ipython",
    "version": 3
   },
   "file_extension": ".py",
   "mimetype": "text/x-python",
   "name": "python",
   "nbconvert_exporter": "python",
   "pygments_lexer": "ipython3",
   "version": "3.11.7"
  }
 },
 "nbformat": 4,
 "nbformat_minor": 2
}
