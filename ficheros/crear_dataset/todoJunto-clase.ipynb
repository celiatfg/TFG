{
 "cells": [
  {
   "cell_type": "markdown",
   "metadata": {},
   "source": [
    "# CREAR EL DATASET FINAL CON LOS 4 TIPOS DE TRAZAS\n",
    "A partir de imágenes de internet y con clases (importando las funciones de un fichero externo= \"funciones.py\")"
   ]
  },
  {
   "cell_type": "code",
   "execution_count": 4,
   "metadata": {},
   "outputs": [],
   "source": [
    "from PIL import Image, ImageDraw, ImageFilter\n",
    "import matplotlib.pyplot as plt\n",
    "import numpy as np\n",
    "import random\n",
    "import os\n",
    "import math\n",
    "from noise import pnoise2\n",
    "import noise"
   ]
  },
  {
   "cell_type": "code",
   "execution_count": 5,
   "metadata": {},
   "outputs": [],
   "source": [
    "from funciones import trazas_tipo1, trazas_tipo2, trazas_tipo3, trazas_tipo4\n",
    "\n",
    "class CreadorTrazas:\n",
    "\n",
    "    def __init__(self):\n",
    "        pass\n",
    "\n",
    "    def trazas_tipo1(self,ruta_imagen,ruta_guardado_img,ruta_guardado_unet):\n",
    "        nombre_sin_extension, extension = os.path.splitext(os.path.basename(ruta_imagen))\n",
    "        nombre_archivo = f\"{nombre_sin_extension}_img_tipo1{extension}\"\n",
    "        nombre_archivo_unet = f\"{nombre_sin_extension}_unet_tipo1{extension}\"\n",
    "\n",
    "        ruta_guardado_img = os.path.join(ruta_guardado_img, nombre_archivo)\n",
    "        ruta_guardado_unet = os.path.join(ruta_guardado_unet, nombre_archivo_unet)\n",
    "\n",
    "        trazas_tipo1(ruta_imagen, ruta_guardado_img,ruta_guardado_unet)\n",
    "    \n",
    "    def trazas_tipo2(self,ruta_imagen,ruta_guardado_img,ruta_guardado_unet):\n",
    "        nombre_sin_extension, extension = os.path.splitext(os.path.basename(ruta_imagen))\n",
    "        nombre_archivo = f\"{nombre_sin_extension}_img_tipo2{extension}\"\n",
    "        nombre_archivo_unet = f\"{nombre_sin_extension}_unet_tipo2{extension}\"\n",
    "\n",
    "        ruta_guardado_img = os.path.join(ruta_guardado_img, nombre_archivo)\n",
    "        ruta_guardado_unet = os.path.join(ruta_guardado_unet, nombre_archivo_unet)\n",
    "\n",
    "        trazas_tipo2(ruta_imagen, ruta_guardado_img,ruta_guardado_unet)\n",
    "\n",
    "    def trazas_tipo3(self,ruta_imagen,ruta_guardado_img,ruta_guardado_unet):\n",
    "        nombre_sin_extension, extension = os.path.splitext(os.path.basename(ruta_imagen))\n",
    "        nombre_archivo = f\"{nombre_sin_extension}_img_tipo3{extension}\"\n",
    "        nombre_archivo_unet = f\"{nombre_sin_extension}_unet_tipo3{extension}\"\n",
    "\n",
    "        ruta_guardado_img = os.path.join(ruta_guardado_img, nombre_archivo)\n",
    "        ruta_guardado_unet = os.path.join(ruta_guardado_unet, nombre_archivo_unet)\n",
    "\n",
    "        trazas_tipo3(ruta_imagen, ruta_guardado_img,ruta_guardado_unet)\n",
    "\n",
    "    def trazas_tipo4(self,ruta_imagen,ruta_guardado_img,ruta_guardado_unet):\n",
    "        nombre_sin_extension, extension = os.path.splitext(os.path.basename(ruta_imagen))\n",
    "        nombre_archivo = f\"{nombre_sin_extension}_img_tipo4{extension}\"\n",
    "        nombre_archivo_unet = f\"{nombre_sin_extension}_unet_tipo4{extension}\"\n",
    "        \n",
    "        ruta_guardado_img = os.path.join(ruta_guardado_img, nombre_archivo)\n",
    "        ruta_guardado_unet = os.path.join(ruta_guardado_unet, nombre_archivo_unet)\n",
    "\n",
    "        trazas_tipo4(ruta_imagen, ruta_guardado_img,ruta_guardado_unet)\n"
   ]
  },
  {
   "cell_type": "markdown",
   "metadata": {},
   "source": [
    "Uso de la clase para una imagen única:"
   ]
  },
  {
   "cell_type": "code",
   "execution_count": 6,
   "metadata": {},
   "outputs": [],
   "source": [
    "# Uso de la clase\n",
    "ruta_imagen = r\"C:\\circumpolar\\TFG\\imagenes\\resta(mediana-original)\\01_toni\\01_toniresta_0.jpg\"\n",
    "\n",
    "ruta_guardado_img =r\"C:\\circumpolar\\TFG\\imagenes\\dataset\\cielos_estrellados_internet\\cielo1\"\n",
    "ruta_guardado_unet = r\"C:\\circumpolar\\TFG\\imagenes\\dataset\\cielos_estrellados_internet\\cielo1\\solUNET\"\n",
    "\n",
    "creador = CreadorTrazas()\n",
    "creador.trazas_tipo1(ruta_imagen,ruta_guardado_img,ruta_guardado_unet)\n",
    "creador.trazas_tipo2(ruta_imagen,ruta_guardado_img,ruta_guardado_unet)\n",
    "creador.trazas_tipo3(ruta_imagen,ruta_guardado_img,ruta_guardado_unet)\n",
    "creador.trazas_tipo4(ruta_imagen,ruta_guardado_img,ruta_guardado_unet)"
   ]
  },
  {
   "cell_type": "markdown",
   "metadata": {},
   "source": [
    "### TIPO 1 (de 2_2_crear_artefactos_falsos.ipynb)"
   ]
  },
  {
   "cell_type": "markdown",
   "metadata": {},
   "source": [
    "falta meter que la traza gire, que no tenga la misma orientación todo el rato"
   ]
  },
  {
   "cell_type": "markdown",
   "metadata": {},
   "source": [
    "### TIPO 2 (3_crear_artefactos_falsos.ipynb)"
   ]
  },
  {
   "cell_type": "code",
   "execution_count": 5,
   "metadata": {},
   "outputs": [],
   "source": [
    "import os\n",
    "\n",
    "def trazas_tipo2_en_carpeta(ruta_carpeta):\n",
    "    # Obtener una lista de nombres de archivos en la carpeta\n",
    "    archivos = os.listdir(ruta_carpeta)\n",
    "\n",
    "    # Iterar sobre cada archivo en la carpeta\n",
    "    for archivo in archivos:\n",
    "        # Comprobar si el archivo es una imagen (puedes añadir más extensiones si es necesario)\n",
    "        if archivo.endswith('.jpg') or archivo.endswith('.png'):\n",
    "            # Obtener la ruta completa del archivo\n",
    "            ruta_imagen = os.path.join(ruta_carpeta, archivo)\n",
    "\n",
    "            # Llamar a la función trazas_tipo1 con la ruta de la imagen\n",
    "            trazas_tipo2(ruta_imagen)\n",
    "\n",
    "# Llamar a la función trazas_tipo1_en_carpeta con la ruta de la carpeta que contiene las imágenes\n",
    "ruta_carpeta = r'C:\\circumpolar\\TFG\\imagenes\\internet_cielos'\n",
    "trazas_tipo2_en_carpeta(ruta_carpeta)\n"
   ]
  },
  {
   "cell_type": "markdown",
   "metadata": {},
   "source": [
    "### TIPO 3 (4_crear_artefactos_falsos.ipynb)"
   ]
  },
  {
   "cell_type": "markdown",
   "metadata": {},
   "source": [
    "con este solo se guardan los puntos de la traza:"
   ]
  },
  {
   "cell_type": "code",
   "execution_count": 71,
   "metadata": {},
   "outputs": [],
   "source": [
    "def trazas_tipo3_en_carpeta(ruta_carpeta):\n",
    "    # Obtener una lista de nombres de archivos en la carpeta\n",
    "    archivos = os.listdir(ruta_carpeta)\n",
    "\n",
    "    # Iterar sobre cada archivo en la carpeta\n",
    "    for archivo in archivos:\n",
    "        # Comprobar si el archivo es una imagen (puedes añadir más extensiones si es necesario)\n",
    "        if archivo.endswith('.jpg') or archivo.endswith('.png'):\n",
    "            # Obtener la ruta completa del archivo\n",
    "            ruta_imagen = os.path.join(ruta_carpeta, archivo)\n",
    "\n",
    "            # Llamar a la función trazas_tipo3 con la ruta de la imagen\n",
    "            trazas_tipo3(ruta_imagen)\n",
    "\n",
    "# Llamar a la función trazas_tipo3_en_carpeta con la ruta de la carpeta que contiene las imágenes\n",
    "ruta_carpeta = r'C:\\circumpolar\\TFG\\imagenes\\resta(mediana-original)\\03_cielo'\n",
    "trazas_tipo3_en_carpeta(ruta_carpeta)"
   ]
  },
  {
   "cell_type": "markdown",
   "metadata": {},
   "source": [
    "### TIPO 4 (5_crear_artefactos_falsos.ipynb)"
   ]
  },
  {
   "cell_type": "markdown",
   "metadata": {},
   "source": [
    "Trazas blancas:"
   ]
  },
  {
   "cell_type": "code",
   "execution_count": null,
   "metadata": {},
   "outputs": [],
   "source": []
  }
 ],
 "metadata": {
  "kernelspec": {
   "display_name": "tfg",
   "language": "python",
   "name": "python3"
  },
  "language_info": {
   "codemirror_mode": {
    "name": "ipython",
    "version": 3
   },
   "file_extension": ".py",
   "mimetype": "text/x-python",
   "name": "python",
   "nbconvert_exporter": "python",
   "pygments_lexer": "ipython3",
   "version": "3.11.7"
  }
 },
 "nbformat": 4,
 "nbformat_minor": 2
}
