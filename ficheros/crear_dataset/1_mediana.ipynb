{
 "cells": [
  {
   "cell_type": "markdown",
   "metadata": {},
   "source": [
    "## OBTENER LA MEDIANA Y RESTARLA"
   ]
  },
  {
   "cell_type": "code",
   "execution_count": 1,
   "metadata": {},
   "outputs": [],
   "source": [
    "import matplotlib.pyplot as plt\n",
    "import matplotlib.gridspec as gridspec\n",
    "import imageio\n",
    "import numpy as np\n",
    "import scipy.stats as stats\n",
    "import glob\n",
    "import cv2\n",
    "#import imutils\n",
    "\n",
    "import panel\n",
    "from  _utils import *\n",
    "import random\n",
    "import glob"
   ]
  },
  {
   "cell_type": "markdown",
   "metadata": {},
   "source": [
    "### 1.1 Creo un stack con todas las fotos"
   ]
  },
  {
   "cell_type": "code",
   "execution_count": 2,
   "metadata": {},
   "outputs": [],
   "source": [
    "def stackRead(pathname):\n",
    "    \n",
    "    # List of image in pathname folder\n",
    "    SEQ_IMG = glob.glob(pathname)\n",
    "    n = len(SEQ_IMG)\n",
    "    # sample for stack definition\n",
    "    sample = imageio.imread(SEQ_IMG[0])\n",
    "    # x and y are the dimensions\n",
    "    # c is the number of channels\n",
    "    y, x, c = sample.shape\n",
    "    # define stack\n",
    "    stack = np.zeros((n, y, x, c), dtype=sample.dtype)\n",
    "    # image stacking\n",
    "    for FILE in SEQ_IMG:\n",
    "        index = SEQ_IMG.index(FILE)\n",
    "        stack[index] = imageio.imread(FILE)\n",
    "    # output\n",
    "    return stack"
   ]
  },
  {
   "cell_type": "code",
   "execution_count": 3,
   "metadata": {},
   "outputs": [
    {
     "name": "stderr",
     "output_type": "stream",
     "text": [
      "C:\\Users\\Celia Igual\\AppData\\Local\\Temp\\ipykernel_5584\\332527165.py:7: DeprecationWarning: Starting with ImageIO v3 the behavior of this function will switch to that of iio.v3.imread. To keep the current behavior (and make this warning disappear) use `import imageio.v2 as imageio` or call `imageio.v2.imread` directly.\n",
      "  sample = imageio.imread(SEQ_IMG[0])\n",
      "C:\\Users\\Celia Igual\\AppData\\Local\\Temp\\ipykernel_5584\\332527165.py:16: DeprecationWarning: Starting with ImageIO v3 the behavior of this function will switch to that of iio.v3.imread. To keep the current behavior (and make this warning disappear) use `import imageio.v2 as imageio` or call `imageio.v2.imread` directly.\n",
      "  stack[index] = imageio.imread(FILE)\n"
     ]
    }
   ],
   "source": [
    "stack=[]\n",
    "dir = '../../imagenes/originales/03_cielo/'\n",
    "stack = stackRead(dir+'*.jpg')"
   ]
  },
  {
   "cell_type": "markdown",
   "metadata": {},
   "source": [
    "### 1.2 Obtengo la mediana"
   ]
  },
  {
   "cell_type": "code",
   "execution_count": 4,
   "metadata": {},
   "outputs": [],
   "source": [
    "#pongo otras opciones por si acaso, pero solo me interesa la median\n",
    "\n",
    "def blendStack(stack, modo='median', axis=0):\n",
    "    if modo == 'sum':\n",
    "        blend = np.sum(stack, axis)\n",
    "        \n",
    "    if modo == 'arithmetic mean':\n",
    "        blend = np.mean(stack, axis)\n",
    "    \n",
    "    if modo == 'geometric mean':\n",
    "        blend = stats.gmean(stack, axis)\n",
    "    \n",
    "    if modo == 'harmonic mean':\n",
    "        blend = stats.hmean(stack, axis)\n",
    "    \n",
    "    if modo == 'median':\n",
    "        blend = np.median(stack, axis)\n",
    "    \n",
    "    if modo == 'minimum':\n",
    "        blend = np.amin(stack, axis)\n",
    "\n",
    "    if modo == 'maximum':\n",
    "        blend = np.amax(stack, axis)\n",
    "\n",
    "    if modo == 'curtosis':\n",
    "        blend = stats.kurtosis(stack, axis)\n",
    "\n",
    "    if modo == 'variance':\n",
    "        blend = np.var(stack, axis)\n",
    "\n",
    "    if modo == 'standard deviation':\n",
    "        blend = np.std(stack, axis)\n",
    "\n",
    "    return blend.astype(stack.dtype)"
   ]
  },
  {
   "cell_type": "code",
   "execution_count": 5,
   "metadata": {},
   "outputs": [],
   "source": [
    "median = blendStack(stack , modo='median') \n",
    "imageio.imwrite('../../imagenes/medianas/03_cielo/median_03_cielo.jpg',median, quality=100)"
   ]
  },
  {
   "cell_type": "markdown",
   "metadata": {},
   "source": [
    "### 1.3 Resto la mediana a cada foto"
   ]
  },
  {
   "cell_type": "code",
   "execution_count": 6,
   "metadata": {},
   "outputs": [],
   "source": [
    "median = blendStack(stack, modo='median')\n",
    "for i in range(len(stack)):\n",
    "    resultado = cv2.subtract(stack[i], median)\n",
    "    nombre_archivo = f\"resta_{i}.jpg\"\n",
    "    nombre_archivo = \"../../imagenes/resta(mediana-original)/03_cielo\"+nombre_archivo\n",
    "    imageio.imwrite(nombre_archivo, resultado, quality=100) #las guardo"
   ]
  },
  {
   "cell_type": "code",
   "execution_count": null,
   "metadata": {},
   "outputs": [],
   "source": []
  }
 ],
 "metadata": {
  "kernelspec": {
   "display_name": "tfg",
   "language": "python",
   "name": "python3"
  },
  "language_info": {
   "codemirror_mode": {
    "name": "ipython",
    "version": 3
   },
   "file_extension": ".py",
   "mimetype": "text/x-python",
   "name": "python",
   "nbconvert_exporter": "python",
   "pygments_lexer": "ipython3",
   "version": "0.0.0"
  }
 },
 "nbformat": 4,
 "nbformat_minor": 2
}
